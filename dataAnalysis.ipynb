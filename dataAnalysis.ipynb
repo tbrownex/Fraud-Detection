{
 "cells": [
  {
   "cell_type": "code",
   "execution_count": 1,
   "metadata": {},
   "outputs": [],
   "source": [
    "from setPandasOptions import setPandasOptions\n",
    "from getConfig   import getConfig\n",
    "from getData     import getData\n",
    "from analyzeCols import analyzeCols\n",
    "from getHighCorr import getHighCorr\n",
    "from splitData   import splitData\n",
    "from splitLabel  import splitLabel"
   ]
  },
  {
   "cell_type": "code",
   "execution_count": 2,
   "metadata": {},
   "outputs": [],
   "source": [
    "setPandasOptions()"
   ]
  },
  {
   "cell_type": "code",
   "execution_count": 3,
   "metadata": {},
   "outputs": [],
   "source": [
    "config = getConfig()\n",
    "df = getData(config)"
   ]
  },
  {
   "cell_type": "code",
   "execution_count": 32,
   "metadata": {},
   "outputs": [
    {
     "name": "stdout",
     "output_type": "stream",
     "text": [
      "284,807 records in the file\n",
      "492 Frauds which is 1 out of 577\n"
     ]
    }
   ],
   "source": [
    "total = df.shape[0]\n",
    "frauds = df.loc[df[\"Class\"]==1].shape[0]\n",
    "non = df.loc[df[\"Class\"]==0].shape[0]\n",
    "ratio = int(non/frauds)\n",
    "\n",
    "print(\"{:,} records in the file\".format(total))\n",
    "print(\"{:,} Frauds which is 1 out of {}\".format(frauds, ratio))"
   ]
  },
  {
   "cell_type": "code",
   "execution_count": 33,
   "metadata": {},
   "outputs": [
    {
     "name": "stdout",
     "output_type": "stream",
     "text": [
      "Static columns:\n",
      " - none\n"
     ]
    }
   ],
   "source": [
    "# See if any static columns\n",
    "static =  analyzeCols(df)\n",
    "print(\"Static columns:\")\n",
    "if len(static) > 0:\n",
    "    print(static)\n",
    "else:\n",
    "    print(\" - none\")"
   ]
  },
  {
   "cell_type": "code",
   "execution_count": 34,
   "metadata": {},
   "outputs": [
    {
     "data": {
      "text/plain": [
       "[]"
      ]
     },
     "execution_count": 34,
     "metadata": {},
     "output_type": "execute_result"
    }
   ],
   "source": [
    "# Are there any highly correlated variables that can be removed?\n",
    "c = getHighCorr(df, 0.8)\n",
    "c"
   ]
  },
  {
   "cell_type": "code",
   "execution_count": 35,
   "metadata": {},
   "outputs": [
    {
     "name": "stdout",
     "output_type": "stream",
     "text": [
      "Class\n"
     ]
    }
   ],
   "source": [
    "# Identify any categorical columns\n",
    "for col in df.columns:\n",
    "    u = df[col].unique()\n",
    "    if len(u) < 10:\n",
    "        print(col)"
   ]
  },
  {
   "cell_type": "code",
   "execution_count": 17,
   "metadata": {},
   "outputs": [],
   "source": [
    "d = df.describe()"
   ]
  },
  {
   "cell_type": "code",
   "execution_count": 18,
   "metadata": {},
   "outputs": [
    {
     "data": {
      "text/html": [
       "<div>\n",
       "<style scoped>\n",
       "    .dataframe tbody tr th:only-of-type {\n",
       "        vertical-align: middle;\n",
       "    }\n",
       "\n",
       "    .dataframe tbody tr th {\n",
       "        vertical-align: top;\n",
       "    }\n",
       "\n",
       "    .dataframe thead th {\n",
       "        text-align: right;\n",
       "    }\n",
       "</style>\n",
       "<table border=\"1\" class=\"dataframe\">\n",
       "  <thead>\n",
       "    <tr style=\"text-align: right;\">\n",
       "      <th></th>\n",
       "      <th>Time</th>\n",
       "      <th>V1</th>\n",
       "      <th>V2</th>\n",
       "      <th>V3</th>\n",
       "      <th>...</th>\n",
       "      <th>V26</th>\n",
       "      <th>V27</th>\n",
       "      <th>V28</th>\n",
       "      <th>Amount</th>\n",
       "    </tr>\n",
       "  </thead>\n",
       "  <tbody>\n",
       "    <tr>\n",
       "      <th>count</th>\n",
       "      <td>56962.000</td>\n",
       "      <td>5.696e+04</td>\n",
       "      <td>56962.000</td>\n",
       "      <td>56962.000</td>\n",
       "      <td>...</td>\n",
       "      <td>56962.000</td>\n",
       "      <td>5.696e+04</td>\n",
       "      <td>56962.000</td>\n",
       "      <td>56962.000</td>\n",
       "    </tr>\n",
       "    <tr>\n",
       "      <th>mean</th>\n",
       "      <td>94990.627</td>\n",
       "      <td>-9.743e-04</td>\n",
       "      <td>-0.010</td>\n",
       "      <td>-0.005</td>\n",
       "      <td>...</td>\n",
       "      <td>0.002</td>\n",
       "      <td>7.502e-04</td>\n",
       "      <td>0.002</td>\n",
       "      <td>89.712</td>\n",
       "    </tr>\n",
       "    <tr>\n",
       "      <th>std</th>\n",
       "      <td>47594.729</td>\n",
       "      <td>1.995e+00</td>\n",
       "      <td>1.682</td>\n",
       "      <td>1.543</td>\n",
       "      <td>...</td>\n",
       "      <td>0.481</td>\n",
       "      <td>3.957e-01</td>\n",
       "      <td>0.373</td>\n",
       "      <td>249.401</td>\n",
       "    </tr>\n",
       "    <tr>\n",
       "      <th>min</th>\n",
       "      <td>1.000</td>\n",
       "      <td>-5.641e+01</td>\n",
       "      <td>-72.716</td>\n",
       "      <td>-33.681</td>\n",
       "      <td>...</td>\n",
       "      <td>-1.653</td>\n",
       "      <td>-8.840e+00</td>\n",
       "      <td>-9.618</td>\n",
       "      <td>0.000</td>\n",
       "    </tr>\n",
       "    <tr>\n",
       "      <th>25%</th>\n",
       "      <td>54042.500</td>\n",
       "      <td>-9.180e-01</td>\n",
       "      <td>-0.601</td>\n",
       "      <td>-0.894</td>\n",
       "      <td>...</td>\n",
       "      <td>-0.325</td>\n",
       "      <td>-7.032e-02</td>\n",
       "      <td>-0.052</td>\n",
       "      <td>5.640</td>\n",
       "    </tr>\n",
       "    <tr>\n",
       "      <th>50%</th>\n",
       "      <td>84864.500</td>\n",
       "      <td>2.348e-02</td>\n",
       "      <td>0.062</td>\n",
       "      <td>0.181</td>\n",
       "      <td>...</td>\n",
       "      <td>-0.051</td>\n",
       "      <td>1.822e-03</td>\n",
       "      <td>0.011</td>\n",
       "      <td>22.000</td>\n",
       "    </tr>\n",
       "    <tr>\n",
       "      <th>75%</th>\n",
       "      <td>139455.000</td>\n",
       "      <td>1.317e+00</td>\n",
       "      <td>0.796</td>\n",
       "      <td>1.023</td>\n",
       "      <td>...</td>\n",
       "      <td>0.242</td>\n",
       "      <td>9.153e-02</td>\n",
       "      <td>0.078</td>\n",
       "      <td>76.987</td>\n",
       "    </tr>\n",
       "    <tr>\n",
       "      <th>max</th>\n",
       "      <td>172774.000</td>\n",
       "      <td>2.452e+00</td>\n",
       "      <td>22.058</td>\n",
       "      <td>4.188</td>\n",
       "      <td>...</td>\n",
       "      <td>3.463</td>\n",
       "      <td>1.114e+01</td>\n",
       "      <td>33.848</td>\n",
       "      <td>10199.440</td>\n",
       "    </tr>\n",
       "  </tbody>\n",
       "</table>\n",
       "</div>"
      ],
      "text/plain": [
       "             Time         V1         V2         V3    ...            V26        V27        V28     Amount\n",
       "count   56962.000  5.696e+04  56962.000  56962.000    ...      56962.000  5.696e+04  56962.000  56962.000\n",
       "mean    94990.627 -9.743e-04     -0.010     -0.005    ...          0.002  7.502e-04      0.002     89.712\n",
       "std     47594.729  1.995e+00      1.682      1.543    ...          0.481  3.957e-01      0.373    249.401\n",
       "min         1.000 -5.641e+01    -72.716    -33.681    ...         -1.653 -8.840e+00     -9.618      0.000\n",
       "25%     54042.500 -9.180e-01     -0.601     -0.894    ...         -0.325 -7.032e-02     -0.052      5.640\n",
       "50%     84864.500  2.348e-02      0.062      0.181    ...         -0.051  1.822e-03      0.011     22.000\n",
       "75%    139455.000  1.317e+00      0.796      1.023    ...          0.242  9.153e-02      0.078     76.987\n",
       "max    172774.000  2.452e+00     22.058      4.188    ...          3.463  1.114e+01     33.848  10199.440"
      ]
     },
     "execution_count": 18,
     "metadata": {},
     "output_type": "execute_result"
    }
   ],
   "source": [
    "d"
   ]
  },
  {
   "cell_type": "code",
   "execution_count": null,
   "metadata": {},
   "outputs": [],
   "source": []
  }
 ],
 "metadata": {
  "kernelspec": {
   "display_name": "Python 3",
   "language": "python",
   "name": "python3"
  },
  "language_info": {
   "codemirror_mode": {
    "name": "ipython",
    "version": 3
   },
   "file_extension": ".py",
   "mimetype": "text/x-python",
   "name": "python",
   "nbconvert_exporter": "python",
   "pygments_lexer": "ipython3",
   "version": "3.5.2"
  }
 },
 "nbformat": 4,
 "nbformat_minor": 2
}
