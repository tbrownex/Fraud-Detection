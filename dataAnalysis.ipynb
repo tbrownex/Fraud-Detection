{
 "cells": [
  {
   "cell_type": "code",
   "execution_count": 1,
   "metadata": {},
   "outputs": [],
   "source": [
    "from setPandasOptions import setPandasOptions\n",
    "from getConfig   import getConfig\n",
    "from getData     import getData\n",
    "from analyzeCols import analyzeCols\n",
    "from getHighCorr import getHighCorr\n",
    "from splitData   import splitData\n",
    "from splitLabel  import splitLabel"
   ]
  },
  {
   "cell_type": "code",
   "execution_count": 2,
   "metadata": {},
   "outputs": [],
   "source": [
    "setPandasOptions()"
   ]
  },
  {
   "cell_type": "code",
   "execution_count": 3,
   "metadata": {},
   "outputs": [],
   "source": [
    "config = getConfig()\n",
    "df = getData(config)"
   ]
  },
  {
   "cell_type": "code",
   "execution_count": 4,
   "metadata": {},
   "outputs": [
    {
     "name": "stdout",
     "output_type": "stream",
     "text": [
      "284,807 records in the file\n",
      "492 Frauds which is 1 out of 577\n"
     ]
    }
   ],
   "source": [
    "total = df.shape[0]\n",
    "frauds = df.loc[df[\"Class\"]==1].shape[0]\n",
    "non = df.loc[df[\"Class\"]==0].shape[0]\n",
    "ratio = int(non/frauds)\n",
    "\n",
    "print(\"{:,} records in the file\".format(total))\n",
    "print(\"{:,} Frauds which is 1 out of {}\".format(frauds, ratio))"
   ]
  },
  {
   "cell_type": "code",
   "execution_count": 5,
   "metadata": {},
   "outputs": [
    {
     "name": "stdout",
     "output_type": "stream",
     "text": [
      "Static columns:\n",
      " - none\n"
     ]
    }
   ],
   "source": [
    "# See if any static columns\n",
    "static =  analyzeCols(df)\n",
    "print(\"Static columns:\")\n",
    "if len(static) > 0:\n",
    "    print(static)\n",
    "else:\n",
    "    print(\" - none\")"
   ]
  },
  {
   "cell_type": "code",
   "execution_count": 6,
   "metadata": {},
   "outputs": [
    {
     "data": {
      "text/plain": [
       "[]"
      ]
     },
     "execution_count": 6,
     "metadata": {},
     "output_type": "execute_result"
    }
   ],
   "source": [
    "# Are there any highly correlated variables that can be removed?\n",
    "c = getHighCorr(df, 0.8)\n",
    "c"
   ]
  },
  {
   "cell_type": "code",
   "execution_count": 7,
   "metadata": {},
   "outputs": [
    {
     "name": "stdout",
     "output_type": "stream",
     "text": [
      "Class\n"
     ]
    }
   ],
   "source": [
    "# Identify any categorical columns\n",
    "for col in df.columns:\n",
    "    u = df[col].unique()\n",
    "    if len(u) < 10:\n",
    "        print(col)"
   ]
  },
  {
   "cell_type": "code",
   "execution_count": 20,
   "metadata": {},
   "outputs": [
    {
     "data": {
      "text/html": [
       "<div>\n",
       "<style scoped>\n",
       "    .dataframe tbody tr th:only-of-type {\n",
       "        vertical-align: middle;\n",
       "    }\n",
       "\n",
       "    .dataframe tbody tr th {\n",
       "        vertical-align: top;\n",
       "    }\n",
       "\n",
       "    .dataframe thead th {\n",
       "        text-align: right;\n",
       "    }\n",
       "</style>\n",
       "<table border=\"1\" class=\"dataframe\">\n",
       "  <thead>\n",
       "    <tr style=\"text-align: right;\">\n",
       "      <th></th>\n",
       "      <th>Time</th>\n",
       "      <th>V1</th>\n",
       "      <th>V2</th>\n",
       "      <th>V3</th>\n",
       "      <th>...</th>\n",
       "      <th>V27</th>\n",
       "      <th>V28</th>\n",
       "      <th>Amount</th>\n",
       "      <th>Class</th>\n",
       "    </tr>\n",
       "  </thead>\n",
       "  <tbody>\n",
       "    <tr>\n",
       "      <th>count</th>\n",
       "      <td>284807.000</td>\n",
       "      <td>2.848e+05</td>\n",
       "      <td>2.848e+05</td>\n",
       "      <td>2.848e+05</td>\n",
       "      <td>...</td>\n",
       "      <td>2.848e+05</td>\n",
       "      <td>2.848e+05</td>\n",
       "      <td>284807.000</td>\n",
       "      <td>284807.000</td>\n",
       "    </tr>\n",
       "    <tr>\n",
       "      <th>mean</th>\n",
       "      <td>94813.860</td>\n",
       "      <td>1.166e-15</td>\n",
       "      <td>3.417e-16</td>\n",
       "      <td>-1.373e-15</td>\n",
       "      <td>...</td>\n",
       "      <td>-3.666e-16</td>\n",
       "      <td>-1.220e-16</td>\n",
       "      <td>88.350</td>\n",
       "      <td>0.002</td>\n",
       "    </tr>\n",
       "    <tr>\n",
       "      <th>std</th>\n",
       "      <td>47488.146</td>\n",
       "      <td>1.959e+00</td>\n",
       "      <td>1.651e+00</td>\n",
       "      <td>1.516e+00</td>\n",
       "      <td>...</td>\n",
       "      <td>4.036e-01</td>\n",
       "      <td>3.301e-01</td>\n",
       "      <td>250.120</td>\n",
       "      <td>0.042</td>\n",
       "    </tr>\n",
       "    <tr>\n",
       "      <th>min</th>\n",
       "      <td>0.000</td>\n",
       "      <td>-5.641e+01</td>\n",
       "      <td>-7.272e+01</td>\n",
       "      <td>-4.833e+01</td>\n",
       "      <td>...</td>\n",
       "      <td>-2.257e+01</td>\n",
       "      <td>-1.543e+01</td>\n",
       "      <td>0.000</td>\n",
       "      <td>0.000</td>\n",
       "    </tr>\n",
       "    <tr>\n",
       "      <th>25%</th>\n",
       "      <td>54201.500</td>\n",
       "      <td>-9.204e-01</td>\n",
       "      <td>-5.985e-01</td>\n",
       "      <td>-8.904e-01</td>\n",
       "      <td>...</td>\n",
       "      <td>-7.084e-02</td>\n",
       "      <td>-5.296e-02</td>\n",
       "      <td>5.600</td>\n",
       "      <td>0.000</td>\n",
       "    </tr>\n",
       "    <tr>\n",
       "      <th>50%</th>\n",
       "      <td>84692.000</td>\n",
       "      <td>1.811e-02</td>\n",
       "      <td>6.549e-02</td>\n",
       "      <td>1.798e-01</td>\n",
       "      <td>...</td>\n",
       "      <td>1.342e-03</td>\n",
       "      <td>1.124e-02</td>\n",
       "      <td>22.000</td>\n",
       "      <td>0.000</td>\n",
       "    </tr>\n",
       "    <tr>\n",
       "      <th>75%</th>\n",
       "      <td>139320.500</td>\n",
       "      <td>1.316e+00</td>\n",
       "      <td>8.037e-01</td>\n",
       "      <td>1.027e+00</td>\n",
       "      <td>...</td>\n",
       "      <td>9.105e-02</td>\n",
       "      <td>7.828e-02</td>\n",
       "      <td>77.165</td>\n",
       "      <td>0.000</td>\n",
       "    </tr>\n",
       "    <tr>\n",
       "      <th>max</th>\n",
       "      <td>172792.000</td>\n",
       "      <td>2.455e+00</td>\n",
       "      <td>2.206e+01</td>\n",
       "      <td>9.383e+00</td>\n",
       "      <td>...</td>\n",
       "      <td>3.161e+01</td>\n",
       "      <td>3.385e+01</td>\n",
       "      <td>25691.160</td>\n",
       "      <td>1.000</td>\n",
       "    </tr>\n",
       "  </tbody>\n",
       "</table>\n",
       "</div>"
      ],
      "text/plain": [
       "             Time         V1         V2         V3  ...        V27        V28      Amount       Class\n",
       "count  284807.000  2.848e+05  2.848e+05  2.848e+05  ...  2.848e+05  2.848e+05  284807.000  284807.000\n",
       "mean    94813.860  1.166e-15  3.417e-16 -1.373e-15  ... -3.666e-16 -1.220e-16      88.350       0.002\n",
       "std     47488.146  1.959e+00  1.651e+00  1.516e+00  ...  4.036e-01  3.301e-01     250.120       0.042\n",
       "min         0.000 -5.641e+01 -7.272e+01 -4.833e+01  ... -2.257e+01 -1.543e+01       0.000       0.000\n",
       "25%     54201.500 -9.204e-01 -5.985e-01 -8.904e-01  ... -7.084e-02 -5.296e-02       5.600       0.000\n",
       "50%     84692.000  1.811e-02  6.549e-02  1.798e-01  ...  1.342e-03  1.124e-02      22.000       0.000\n",
       "75%    139320.500  1.316e+00  8.037e-01  1.027e+00  ...  9.105e-02  7.828e-02      77.165       0.000\n",
       "max    172792.000  2.455e+00  2.206e+01  9.383e+00  ...  3.161e+01  3.385e+01   25691.160       1.000"
      ]
     },
     "execution_count": 20,
     "metadata": {},
     "output_type": "execute_result"
    }
   ],
   "source": [
    "d = df.describe()\n",
    "d"
   ]
  },
  {
   "cell_type": "code",
   "execution_count": null,
   "metadata": {},
   "outputs": [],
   "source": []
  }
 ],
 "metadata": {
  "kernelspec": {
   "display_name": "Python 3",
   "language": "python",
   "name": "python3"
  },
  "language_info": {
   "codemirror_mode": {
    "name": "ipython",
    "version": 3
   },
   "file_extension": ".py",
   "mimetype": "text/x-python",
   "name": "python",
   "nbconvert_exporter": "python",
   "pygments_lexer": "ipython3",
   "version": "3.5.2"
  }
 },
 "nbformat": 4,
 "nbformat_minor": 2
}
