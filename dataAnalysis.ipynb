{
 "cells": [
  {
   "cell_type": "code",
   "execution_count": 1,
   "metadata": {},
   "outputs": [],
   "source": [
    "from setPandasOptions import setPandasOptions\n",
    "from getConfig   import getConfig\n",
    "from getData     import getData\n",
    "from analyzeCols import analyzeCols\n",
    "from getHighCorr import getHighCorr\n",
    "from splitData   import splitData\n",
    "from splitLabel  import splitLabel"
   ]
  },
  {
   "cell_type": "code",
   "execution_count": 2,
   "metadata": {},
   "outputs": [],
   "source": [
    "setPandasOptions()"
   ]
  },
  {
   "cell_type": "code",
   "execution_count": 19,
   "metadata": {},
   "outputs": [],
   "source": [
    "config = getConfig()\n",
    "df = getData(config)"
   ]
  },
  {
   "cell_type": "code",
   "execution_count": 21,
   "metadata": {},
   "outputs": [],
   "source": [
    "del df[\"Time\"]"
   ]
  },
  {
   "cell_type": "code",
   "execution_count": 22,
   "metadata": {},
   "outputs": [
    {
     "name": "stdout",
     "output_type": "stream",
     "text": [
      "284,807 records in the file\n",
      "492 Frauds which is 1 out of 577\n"
     ]
    }
   ],
   "source": [
    "total = df.shape[0]\n",
    "frauds = df.loc[df[\"Class\"]==1].shape[0]\n",
    "non = df.loc[df[\"Class\"]==0].shape[0]\n",
    "ratio = int(non/frauds)\n",
    "\n",
    "print(\"{:,} records in the file\".format(total))\n",
    "print(\"{:,} Frauds which is 1 out of {}\".format(frauds, ratio))"
   ]
  },
  {
   "cell_type": "code",
   "execution_count": 23,
   "metadata": {},
   "outputs": [
    {
     "name": "stdout",
     "output_type": "stream",
     "text": [
      "Static columns:\n",
      " - none\n"
     ]
    }
   ],
   "source": [
    "# See if any static columns\n",
    "static =  analyzeCols(df)\n",
    "print(\"Static columns:\")\n",
    "if len(static) > 0:\n",
    "    print(static)\n",
    "else:\n",
    "    print(\" - none\")"
   ]
  },
  {
   "cell_type": "code",
   "execution_count": 24,
   "metadata": {},
   "outputs": [
    {
     "data": {
      "text/plain": [
       "[]"
      ]
     },
     "execution_count": 24,
     "metadata": {},
     "output_type": "execute_result"
    }
   ],
   "source": [
    "# Are there any highly correlated variables that can be removed?\n",
    "c = getHighCorr(df, 0.8)\n",
    "c"
   ]
  },
  {
   "cell_type": "code",
   "execution_count": 25,
   "metadata": {},
   "outputs": [
    {
     "name": "stdout",
     "output_type": "stream",
     "text": [
      "Class\n"
     ]
    }
   ],
   "source": [
    "# Identify any categorical columns\n",
    "for col in df.columns:\n",
    "    u = df[col].unique()\n",
    "    if len(u) < 10:\n",
    "        print(col)"
   ]
  },
  {
   "cell_type": "code",
   "execution_count": 26,
   "metadata": {},
   "outputs": [
    {
     "data": {
      "text/html": [
       "<div>\n",
       "<style scoped>\n",
       "    .dataframe tbody tr th:only-of-type {\n",
       "        vertical-align: middle;\n",
       "    }\n",
       "\n",
       "    .dataframe tbody tr th {\n",
       "        vertical-align: top;\n",
       "    }\n",
       "\n",
       "    .dataframe thead th {\n",
       "        text-align: right;\n",
       "    }\n",
       "</style>\n",
       "<table border=\"1\" class=\"dataframe\">\n",
       "  <thead>\n",
       "    <tr style=\"text-align: right;\">\n",
       "      <th></th>\n",
       "      <th>V1</th>\n",
       "      <th>V2</th>\n",
       "      <th>V3</th>\n",
       "      <th>V4</th>\n",
       "      <th>...</th>\n",
       "      <th>V27</th>\n",
       "      <th>V28</th>\n",
       "      <th>Amount</th>\n",
       "      <th>Class</th>\n",
       "    </tr>\n",
       "  </thead>\n",
       "  <tbody>\n",
       "    <tr>\n",
       "      <th>count</th>\n",
       "      <td>284807.000</td>\n",
       "      <td>284807.000</td>\n",
       "      <td>284807.000</td>\n",
       "      <td>284807.000</td>\n",
       "      <td>...</td>\n",
       "      <td>284807.000</td>\n",
       "      <td>284807.000</td>\n",
       "      <td>284807.000</td>\n",
       "      <td>284807.000</td>\n",
       "    </tr>\n",
       "    <tr>\n",
       "      <th>mean</th>\n",
       "      <td>0.000</td>\n",
       "      <td>0.000</td>\n",
       "      <td>-0.000</td>\n",
       "      <td>0.000</td>\n",
       "      <td>...</td>\n",
       "      <td>-0.000</td>\n",
       "      <td>-0.000</td>\n",
       "      <td>88.350</td>\n",
       "      <td>0.002</td>\n",
       "    </tr>\n",
       "    <tr>\n",
       "      <th>std</th>\n",
       "      <td>1.959</td>\n",
       "      <td>1.651</td>\n",
       "      <td>1.516</td>\n",
       "      <td>1.416</td>\n",
       "      <td>...</td>\n",
       "      <td>0.404</td>\n",
       "      <td>0.330</td>\n",
       "      <td>250.120</td>\n",
       "      <td>0.042</td>\n",
       "    </tr>\n",
       "    <tr>\n",
       "      <th>min</th>\n",
       "      <td>-56.408</td>\n",
       "      <td>-72.716</td>\n",
       "      <td>-48.326</td>\n",
       "      <td>-5.683</td>\n",
       "      <td>...</td>\n",
       "      <td>-22.566</td>\n",
       "      <td>-15.430</td>\n",
       "      <td>0.000</td>\n",
       "      <td>0.000</td>\n",
       "    </tr>\n",
       "    <tr>\n",
       "      <th>25%</th>\n",
       "      <td>-0.920</td>\n",
       "      <td>-0.599</td>\n",
       "      <td>-0.890</td>\n",
       "      <td>-0.849</td>\n",
       "      <td>...</td>\n",
       "      <td>-0.071</td>\n",
       "      <td>-0.053</td>\n",
       "      <td>5.600</td>\n",
       "      <td>0.000</td>\n",
       "    </tr>\n",
       "    <tr>\n",
       "      <th>50%</th>\n",
       "      <td>0.018</td>\n",
       "      <td>0.065</td>\n",
       "      <td>0.180</td>\n",
       "      <td>-0.020</td>\n",
       "      <td>...</td>\n",
       "      <td>0.001</td>\n",
       "      <td>0.011</td>\n",
       "      <td>22.000</td>\n",
       "      <td>0.000</td>\n",
       "    </tr>\n",
       "    <tr>\n",
       "      <th>75%</th>\n",
       "      <td>1.316</td>\n",
       "      <td>0.804</td>\n",
       "      <td>1.027</td>\n",
       "      <td>0.743</td>\n",
       "      <td>...</td>\n",
       "      <td>0.091</td>\n",
       "      <td>0.078</td>\n",
       "      <td>77.165</td>\n",
       "      <td>0.000</td>\n",
       "    </tr>\n",
       "    <tr>\n",
       "      <th>max</th>\n",
       "      <td>2.455</td>\n",
       "      <td>22.058</td>\n",
       "      <td>9.383</td>\n",
       "      <td>16.875</td>\n",
       "      <td>...</td>\n",
       "      <td>31.612</td>\n",
       "      <td>33.848</td>\n",
       "      <td>25691.160</td>\n",
       "      <td>1.000</td>\n",
       "    </tr>\n",
       "  </tbody>\n",
       "</table>\n",
       "</div>"
      ],
      "text/plain": [
       "              V1         V2         V3         V4  ...        V27        V28     Amount      Class\n",
       "count 284807.000 284807.000 284807.000 284807.000  ... 284807.000 284807.000 284807.000 284807.000\n",
       "mean       0.000      0.000     -0.000      0.000  ...     -0.000     -0.000     88.350      0.002\n",
       "std        1.959      1.651      1.516      1.416  ...      0.404      0.330    250.120      0.042\n",
       "min      -56.408    -72.716    -48.326     -5.683  ...    -22.566    -15.430      0.000      0.000\n",
       "25%       -0.920     -0.599     -0.890     -0.849  ...     -0.071     -0.053      5.600      0.000\n",
       "50%        0.018      0.065      0.180     -0.020  ...      0.001      0.011     22.000      0.000\n",
       "75%        1.316      0.804      1.027      0.743  ...      0.091      0.078     77.165      0.000\n",
       "max        2.455     22.058      9.383     16.875  ...     31.612     33.848  25691.160      1.000"
      ]
     },
     "execution_count": 26,
     "metadata": {},
     "output_type": "execute_result"
    }
   ],
   "source": [
    "d = df.describe()\n",
    "d"
   ]
  },
  {
   "cell_type": "code",
   "execution_count": 30,
   "metadata": {},
   "outputs": [],
   "source": [
    "def getZ(col):\n",
    "    rowZ = (df[col] - df[col].mean())/df[col].std()\n",
    "    return rowZ.min(), rowZ.max()"
   ]
  },
  {
   "cell_type": "code",
   "execution_count": 33,
   "metadata": {},
   "outputs": [
    {
     "name": "stdout",
     "output_type": "stream",
     "text": [
      "V1    -28.798504351844315    1.2533492880193196\n",
      "V2    -44.03521453631691    13.357726874692933\n",
      "V3    -31.871676728103875    6.187981837343446\n",
      "V4    -4.013911530176515    11.918722070868514\n",
      "V5    -82.40795207602    25.214090364133316\n",
      "V6    -19.636023131451086    55.020052682598404\n",
      "V7    -35.20933390588409    97.478068047873\n",
      "V8    -61.302415970722535    16.751504785903833\n",
      "V9    -12.227993747857044    14.19491999194974\n",
      "V10    -22.58186870082846    21.80754120094483\n",
      "V11    -4.7001197540835955    11.775016929651947\n",
      "V12    -18.698647569065088    7.854664893265567\n",
      "V13    -5.819382267731905    7.16072288709572\n",
      "V14    -20.044245211037953    10.981446115719558\n",
      "V15    -4.915181882212041    9.699100075964973\n",
      "V16    -16.125315785955873    19.760404521159025\n",
      "V17    -29.626399748135174    10.894998754016907\n",
      "V18    -11.33263604127614    6.014331029802841\n",
      "V19    -8.861386409357912    6.8694019794542225\n",
      "V20    -70.69133668678853    51.13455002189367\n",
      "V21    -47.41898353674154    37.03464914023077\n",
      "V22    -15.065619661906739    14.473015716769412\n",
      "V23    -71.75433813786057    36.076611833759046\n",
      "V24    -4.683630235147002    7.569671150800496\n",
      "V25    -19.75029769485857    14.42529257159409\n",
      "V26    -5.401088037758222    7.29396221053186\n",
      "V27    -55.90649811962665    78.31925947606145\n",
      "V28    -46.74603526110249    102.54324133940474\n",
      "Amount    -0.35322877284564846    102.36206300454987\n",
      "Class    -0.04159890533850926    24.03900969780134\n"
     ]
    }
   ],
   "source": [
    "for col in df.columns:\n",
    "    mi, ma = getZ(col)\n",
    "    print(col, \"  \", mi, \"  \", ma)"
   ]
  },
  {
   "cell_type": "code",
   "execution_count": 37,
   "metadata": {},
   "outputs": [
    {
     "data": {
      "text/plain": [
       "(-113.74330671114599,\n",
       " 34.8016658766686,\n",
       " 9.604066317127324e-16,\n",
       " 1.3802467340314395)"
      ]
     },
     "execution_count": 37,
     "metadata": {},
     "output_type": "execute_result"
    }
   ],
   "source": [
    "df[\"V5\"].min(), df[\"V5\"].max(), df[\"V5\"].mean(), df[\"V5\"].std()"
   ]
  },
  {
   "cell_type": "code",
   "execution_count": null,
   "metadata": {},
   "outputs": [],
   "source": []
  }
 ],
 "metadata": {
  "kernelspec": {
   "display_name": "Python 3",
   "language": "python",
   "name": "python3"
  },
  "language_info": {
   "codemirror_mode": {
    "name": "ipython",
    "version": 3
   },
   "file_extension": ".py",
   "mimetype": "text/x-python",
   "name": "python",
   "nbconvert_exporter": "python",
   "pygments_lexer": "ipython3",
   "version": "3.5.2"
  }
 },
 "nbformat": 4,
 "nbformat_minor": 2
}
