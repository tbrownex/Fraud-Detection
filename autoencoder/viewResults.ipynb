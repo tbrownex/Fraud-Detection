{
 "cells": [
  {
   "cell_type": "code",
   "execution_count": 1,
   "metadata": {},
   "outputs": [],
   "source": [
    "dataLoc= \"/home/tbrownex/\"\n",
    "actuals = pd.read_csv(dataLoc+\"NNresults.csv\")\n",
    "preds = pd.read_csv(dataLoc+\"preds.csv\")"
   ]
  },
  {
   "cell_type": "code",
   "execution_count": 2,
   "metadata": {},
   "outputs": [
    {
     "data": {
      "text/plain": [
       "True"
      ]
     },
     "execution_count": 2,
     "metadata": {},
     "output_type": "execute_result"
    }
   ],
   "source": [
    "actuals.shape==preds.shape"
   ]
  },
  {
   "cell_type": "code",
   "execution_count": 3,
   "metadata": {},
   "outputs": [],
   "source": [
    "def computeMSE(df1, df2):\n",
    "    diff = df1-df2\n",
    "    diffSq = diff*diff\n",
    "    return diffSq.stack().mean()"
   ]
  },
  {
   "cell_type": "code",
   "execution_count": 4,
   "metadata": {},
   "outputs": [
    {
     "name": "stdout",
     "output_type": "stream",
     "text": [
      "0.000367514880402654\n"
     ]
    }
   ],
   "source": [
    "# Compute mse for Predictions\n",
    "preds.columns = actuals.columns\n",
    "print(computeMSE(actuals, preds))"
   ]
  },
  {
   "cell_type": "code",
   "execution_count": 5,
   "metadata": {},
   "outputs": [
    {
     "name": "stdout",
     "output_type": "stream",
     "text": [
      "0.3224995663181919\n"
     ]
    }
   ],
   "source": [
    "# Compute baseline mse\n",
    "baseline = np.random.normal(loc=0, scale=0.1, size=actuals.shape)\n",
    "baseline = np.reshape(baseline, newshape=actuals.shape)\n",
    "print(computeMSE(actuals, baseline))"
   ]
  },
  {
   "cell_type": "code",
   "execution_count": null,
   "metadata": {},
   "outputs": [],
   "source": []
  }
 ],
 "metadata": {
  "kernelspec": {
   "display_name": "Python 3",
   "language": "python",
   "name": "python3"
  },
  "language_info": {
   "codemirror_mode": {
    "name": "ipython",
    "version": 3
   },
   "file_extension": ".py",
   "mimetype": "text/x-python",
   "name": "python",
   "nbconvert_exporter": "python",
   "pygments_lexer": "ipython3",
   "version": "3.5.2"
  }
 },
 "nbformat": 4,
 "nbformat_minor": 2
}
