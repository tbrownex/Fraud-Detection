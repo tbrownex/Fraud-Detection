{
 "cells": [
  {
   "cell_type": "code",
   "execution_count": 35,
   "metadata": {},
   "outputs": [],
   "source": [
    "dataLoc= \"/home/tbrownex/\"\n",
    "actuals = pd.read_csv(dataLoc+\"actuals.csv\")\n",
    "preds = pd.read_csv(dataLoc+\"preds.csv\")"
   ]
  },
  {
   "cell_type": "code",
   "execution_count": 36,
   "metadata": {},
   "outputs": [
    {
     "data": {
      "text/plain": [
       "True"
      ]
     },
     "execution_count": 36,
     "metadata": {},
     "output_type": "execute_result"
    }
   ],
   "source": [
    "actuals.shape==preds.shape"
   ]
  },
  {
   "cell_type": "code",
   "execution_count": 37,
   "metadata": {},
   "outputs": [],
   "source": [
    "def computeMSE(df1, df2):\n",
    "    diff = df1-df2\n",
    "    diffSq = diff*diff\n",
    "    return diffSq.stack().mean()"
   ]
  },
  {
   "cell_type": "code",
   "execution_count": 38,
   "metadata": {},
   "outputs": [
    {
     "name": "stdout",
     "output_type": "stream",
     "text": [
      "0.9288215210808597\n"
     ]
    }
   ],
   "source": [
    "# Compute mse for Predictions\n",
    "preds.columns = actuals.columns\n",
    "print(computeMSE(actuals, preds))"
   ]
  },
  {
   "cell_type": "code",
   "execution_count": 39,
   "metadata": {},
   "outputs": [
    {
     "name": "stdout",
     "output_type": "stream",
     "text": [
      "1.0556247689464808\n"
     ]
    }
   ],
   "source": [
    "# Compute baseline mse\n",
    "baseline = np.random.normal(loc=0, scale=0.1, size=actuals.shape)\n",
    "baseline = np.reshape(baseline, newshape=actuals.shape)\n",
    "print(computeMSE(actuals, baseline))"
   ]
  }
 ],
 "metadata": {
  "kernelspec": {
   "display_name": "Python 3",
   "language": "python",
   "name": "python3"
  },
  "language_info": {
   "codemirror_mode": {
    "name": "ipython",
    "version": 3
   },
   "file_extension": ".py",
   "mimetype": "text/x-python",
   "name": "python",
   "nbconvert_exporter": "python",
   "pygments_lexer": "ipython3",
   "version": "3.5.2"
  }
 },
 "nbformat": 4,
 "nbformat_minor": 2
}
